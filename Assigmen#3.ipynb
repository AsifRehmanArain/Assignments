{
 "cells": [
  {
   "cell_type": "code",
   "execution_count": 1,
   "metadata": {},
   "outputs": [
    {
     "name": "stdout",
     "output_type": "stream",
     "text": [
      "Enter First number: 6\n",
      "Enter Second number 4\n",
      "Sum of  6 and 4 is : 10\n",
      "Difference of  6 and 4 is : 2\n",
      "Product of 6 and 4 is : 24\n",
      "Division of  6 and 4 is : 1.5\n",
      "Exponent of  6 and 4 is : 1296\n"
     ]
    }
   ],
   "source": [
    "num1 = int(input('Enter First number: '))\n",
    "num2 = int(input('Enter Second number '))\n",
    "add = num1 + num2\n",
    "dif = num1 - num2\n",
    "mul = num1 * num2\n",
    "div = num1 / num2\n",
    "power = num1 ** num2\n",
    "print('Sum of ',num1 ,'and' ,num2 ,'is :',add)\n",
    "print('Difference of ',num1 ,'and' ,num2 ,'is :',dif)\n",
    "print('Product of' ,num1 ,'and' ,num2 ,'is :',mul)\n",
    "print('Division of ',num1 ,'and' ,num2 ,'is :',div)\n",
    "print('Exponent of ',num1 ,'and' ,num2 ,'is :',power)"
   ]
  },
  {
   "cell_type": "code",
   "execution_count": 4,
   "metadata": {},
   "outputs": [
    {
     "name": "stdout",
     "output_type": "stream",
     "text": [
      "{0: 25, 6: 20}\n",
      "{0: 25, 6: 30}\n"
     ]
    }
   ],
   "source": [
    "d = {0:25, 6:20}\n",
    "print(d)\n",
    "d.update({6:30})\n",
    "print(d)"
   ]
  },
  {
   "cell_type": "code",
   "execution_count": 5,
   "metadata": {},
   "outputs": [
    {
     "name": "stdout",
     "output_type": "stream",
     "text": [
      "693\n"
     ]
    }
   ],
   "source": [
    "my_dict = {'data1':500,'data2':-54,'data3':247}\n",
    "print(sum(my_dict.values()))"
   ]
  },
  {
   "cell_type": "code",
   "execution_count": 6,
   "metadata": {},
   "outputs": [
    {
     "name": "stdout",
     "output_type": "stream",
     "text": [
      "[20, 30, -20, 60]\n"
     ]
    }
   ],
   "source": [
    "def Repeat(x): \n",
    "    _size = len(x) \n",
    "    repeated = [] \n",
    "    for i in range(_size): \n",
    "        k = i + 1\n",
    "        for j in range(k, _size): \n",
    "            if x[i] == x[j] and x[i] not in repeated: \n",
    "                repeated.append(x[i]) \n",
    "    return repeated \n",
    "  \n",
    "\n",
    "list1 = [10, 20, 30, 20, 20, 30, 40,  \n",
    "         50, -20, 60, 60, -20, -20] \n",
    "print (Repeat(list1))"
   ]
  },
  {
   "cell_type": "code",
   "execution_count": 7,
   "metadata": {},
   "outputs": [
    {
     "name": "stdout",
     "output_type": "stream",
     "text": [
      "Key is present in the dictionary\n",
      "Key is not present in the dictionary\n"
     ]
    }
   ],
   "source": [
    "d = {1: 10, 2: 20, 3: 30, 4: 40, 5: 50, 6: 60}\n",
    "def is_key_present(x):\n",
    "  if x in d:\n",
    "      print('Key is present in the dictionary')\n",
    "  else:\n",
    "      print('Key is not present in the dictionary')\n",
    "is_key_present(5)\n",
    "is_key_present(9)"
   ]
  },
  {
   "cell_type": "code",
   "execution_count": null,
   "metadata": {},
   "outputs": [],
   "source": []
  }
 ],
 "metadata": {
  "kernelspec": {
   "display_name": "Python 3",
   "language": "python",
   "name": "python3"
  },
  "language_info": {
   "codemirror_mode": {
    "name": "ipython",
    "version": 3
   },
   "file_extension": ".py",
   "mimetype": "text/x-python",
   "name": "python",
   "nbconvert_exporter": "python",
   "pygments_lexer": "ipython3",
   "version": "3.7.4"
  }
 },
 "nbformat": 4,
 "nbformat_minor": 2
}
