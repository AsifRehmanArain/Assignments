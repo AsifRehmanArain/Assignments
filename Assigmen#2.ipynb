{
 "cells": [
  {
   "cell_type": "code",
   "execution_count": 1,
   "metadata": {},
   "outputs": [
    {
     "name": "stdout",
     "output_type": "stream",
     "text": [
      "Enter marks scored in English: 87\n",
      "Enter marks scored in Urdu: 92\n",
      "Enter marks scored in Islamiyat: 95\n",
      "Enter marks scored in Math: 77\n",
      "Enter marks scored in Computer Science: 90\n",
      "Grade: A-1\n"
     ]
    }
   ],
   "source": [
    "english=int(input(\"Enter marks scored in English: \"))\n",
    "urdu=int(input(\"Enter marks scored in Urdu: \"))\n",
    "islamiyat=int(input(\"Enter marks scored in Islamiyat: \"))\n",
    "math=int(input(\"Enter marks scored in Math: \"))\n",
    "computer=int(input(\"Enter marks scored in Computer Science: \"))\n",
    "avg=(english+urdu+islamiyat+math+computer)/5\n",
    "if(avg>=80):\n",
    "    print(\"Grade: A-1\")\n",
    "elif(avg<80):\n",
    "    print(\"Grade: A\")\n",
    "elif(avg<70):\n",
    "    print(\"Grade: B\")\n",
    "elif(avg<60):\n",
    "    print(\"Grade: C\")\n",
    "else:\n",
    "    print(\"Grade: F\")"
   ]
  },
  {
   "cell_type": "code",
   "execution_count": 2,
   "metadata": {},
   "outputs": [
    {
     "name": "stdout",
     "output_type": "stream",
     "text": [
      "Enter a number: 3\n",
      "This is an odd number.\n"
     ]
    }
   ],
   "source": [
    "num = int(input(\"Enter a number: \"))\n",
    "mod = num % 2\n",
    "if mod > 0:\n",
    "    print(\"This is an odd number.\")\n",
    "else:\n",
    "    print(\"This is an even number.\")"
   ]
  },
  {
   "cell_type": "code",
   "execution_count": 3,
   "metadata": {},
   "outputs": [
    {
     "name": "stdout",
     "output_type": "stream",
     "text": [
      "The length of list is:  8\n"
     ]
    }
   ],
   "source": [
    "n = len([ 10 , 20 , 30 , 40 , 50 , 70 , 80 , 90 ]) \n",
    "print(\"The length of list is: \", n)"
   ]
  },
  {
   "cell_type": "code",
   "execution_count": 4,
   "metadata": {},
   "outputs": [
    {
     "name": "stdout",
     "output_type": "stream",
     "text": [
      "How many numbers: 7\n",
      "Enter number 99\n",
      "Enter number 23\n",
      "Enter number 56\n",
      "Enter number 76\n",
      "Enter number 45\n",
      "Enter number 66\n",
      "Enter number 44\n",
      "Sum of elements in given list is : 409\n"
     ]
    }
   ],
   "source": [
    "lst = []\n",
    "num = int(input('How many numbers: '))\n",
    "for n in range(num):\n",
    "    numbers = int(input('Enter number '))\n",
    "    lst.append(numbers)\n",
    "print(\"Sum of elements in given list is :\", sum(lst))"
   ]
  },
  {
   "cell_type": "code",
   "execution_count": 5,
   "metadata": {},
   "outputs": [
    {
     "name": "stdout",
     "output_type": "stream",
     "text": [
      "How many numbers: 5\n",
      "Enter number 91\n",
      "Enter number 12\n",
      "Enter number 56\n",
      "Enter number 73\n",
      "Enter number 64\n",
      "Maximum element in the list is : 91\n"
     ]
    }
   ],
   "source": [
    "lst = []\n",
    "num = int(input('How many numbers: '))\n",
    "for n in range(num):\n",
    "    numbers = int(input('Enter number '))\n",
    "    lst.append(numbers)\n",
    "print(\"Maximum element in the list is :\", max(lst))"
   ]
  },
  {
   "cell_type": "code",
   "execution_count": 6,
   "metadata": {},
   "outputs": [
    {
     "name": "stdout",
     "output_type": "stream",
     "text": [
      "[15, 26, 37, 58]\n"
     ]
    }
   ],
   "source": [
    "a = [ 15, 26, 37, 58, 68, 73, 81, 94]\n",
    "num = 60\n",
    "new_list = []\n",
    "for i in a:\n",
    "  if i<=num:\n",
    "    new_list.append(i)\n",
    "print (new_list)"
   ]
  },
  {
   "cell_type": "code",
   "execution_count": null,
   "metadata": {},
   "outputs": [],
   "source": []
  }
 ],
 "metadata": {
  "kernelspec": {
   "display_name": "Python 3",
   "language": "python",
   "name": "python3"
  },
  "language_info": {
   "codemirror_mode": {
    "name": "ipython",
    "version": 3
   },
   "file_extension": ".py",
   "mimetype": "text/x-python",
   "name": "python",
   "nbconvert_exporter": "python",
   "pygments_lexer": "ipython3",
   "version": "3.7.4"
  }
 },
 "nbformat": 4,
 "nbformat_minor": 2
}
